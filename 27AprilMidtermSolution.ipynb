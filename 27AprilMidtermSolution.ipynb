{
 "cells": [
  {
   "cell_type": "code",
   "execution_count": 1,
   "metadata": {
    "collapsed": true
   },
   "outputs": [],
   "source": [
    "import numpy as np\n",
    "import random\n",
    "\n",
    "%matplotlib inline\n",
    "from __future__ import print_function\n",
    "from ipywidgets import interact, interactive, fixed\n",
    "import ipywidgets as widgets\n",
    "import matplotlib.pylab as plt\n",
    "from IPython.display import clear_output, display, HTML\n",
    "import scipy as sc\n",
    "import numpy as np\n",
    "import pandas as pd\n",
    "import matplotlib as mpl\n",
    "import matplotlib.pylab as plt"
   ]
  },
  {
   "cell_type": "code",
   "execution_count": 2,
   "metadata": {
    "collapsed": true
   },
   "outputs": [],
   "source": [
    "y = np.matrix('4; 8; 16; 32')"
   ]
  },
  {
   "cell_type": "code",
   "execution_count": 3,
   "metadata": {
    "collapsed": true
   },
   "outputs": [],
   "source": [
    "A = np.matrix('2; 4; 8; 16')"
   ]
  },
  {
   "cell_type": "code",
   "execution_count": 4,
   "metadata": {
    "collapsed": false
   },
   "outputs": [
    {
     "data": {
      "text/plain": [
       "matrix([[ 0.00294118]])"
      ]
     },
     "execution_count": 4,
     "metadata": {},
     "output_type": "execute_result"
    }
   ],
   "source": [
    "k = np.linalg.inv(A.T.dot(A))\n",
    "k"
   ]
  },
  {
   "cell_type": "code",
   "execution_count": 5,
   "metadata": {
    "collapsed": false
   },
   "outputs": [
    {
     "data": {
      "text/plain": [
       "matrix([[680]])"
      ]
     },
     "execution_count": 5,
     "metadata": {},
     "output_type": "execute_result"
    }
   ],
   "source": [
    "l = A.T.dot(y)\n",
    "l"
   ]
  },
  {
   "cell_type": "code",
   "execution_count": null,
   "metadata": {
    "collapsed": false
   },
   "outputs": [],
   "source": []
  },
  {
   "cell_type": "code",
   "execution_count": 6,
   "metadata": {
    "collapsed": false
   },
   "outputs": [
    {
     "data": {
      "text/plain": [
       "matrix([[ 2.]])"
      ]
     },
     "execution_count": 6,
     "metadata": {},
     "output_type": "execute_result"
    }
   ],
   "source": [
    "k*l"
   ]
  },
  {
   "cell_type": "code",
   "execution_count": 7,
   "metadata": {
    "collapsed": false
   },
   "outputs": [
    {
     "data": {
      "text/plain": [
       "matrix([[23]])"
      ]
     },
     "execution_count": 7,
     "metadata": {},
     "output_type": "execute_result"
    }
   ],
   "source": [
    "test = np.matrix('2 3')\n",
    "test2 = np.matrix('4; 5')\n",
    "test*test2"
   ]
  },
  {
   "cell_type": "code",
   "execution_count": null,
   "metadata": {
    "collapsed": false
   },
   "outputs": [],
   "source": []
  },
  {
   "cell_type": "code",
   "execution_count": 8,
   "metadata": {
    "collapsed": true
   },
   "outputs": [],
   "source": [
    "Data = [\n",
    "[0,0,-1.064],\n",
    "[0,1,-0.904],\n",
    "[0,5,0.532],\n",
    "[1,0,1.192],\n",
    "[1,2,0.010],\n",
    "[1,3,0.340],\n",
    "[2,0,4.417],\n",
    "[2,1,2.141],\n",
    "[2,2,-0.260],\n",
    "[2,3,1.039],\n",
    "[2,4,1.633],\n",
    "[2,5,0.031],\n",
    "[3,1,1.811],\n",
    "[3,3,0.619],\n",
    "[3,4,0.386],\n",
    "[3,5,0.577],\n",
    "[4,1,-1.467],\n",
    "[4,2,1.323],\n",
    "[4,4,0.516],\n",
    "[4,5,-0.949],\n",
    "]"
   ]
  },
  {
   "cell_type": "code",
   "execution_count": 9,
   "metadata": {
    "collapsed": false
   },
   "outputs": [
    {
     "data": {
      "text/plain": [
       "-1.064"
      ]
     },
     "execution_count": 9,
     "metadata": {},
     "output_type": "execute_result"
    }
   ],
   "source": [
    "Data[0][2]"
   ]
  },
  {
   "cell_type": "code",
   "execution_count": 10,
   "metadata": {
    "collapsed": false
   },
   "outputs": [
    {
     "name": "stdout",
     "output_type": "stream",
     "text": [
      "[[0.34279172522256873, 0.953854768975227], [0.7603573069885721, 0.36588278431539656], [0.5269726824850821, 0.14702853429766127], [0.4969702631315006, 0.502963977562085], [0.3566253605866573, 0.3143957456358728]]\n",
      "-----------------\n",
      "[[0.13191970340766868, 0.772543733616647, 0.6009138685911474, 0.7470327385164031, 0.08098735690854575, 0.9398874482092858], [0.32858919980522905, 0.9546145052517765, 0.4914820231431952, 0.06691562051523625, 0.2944291828486856, 0.8539064823795901]]\n",
      "------------------\n",
      "[[-1.064, -0.904, [None], [None], [None], 0.532], [1.192, [None], 0.01, 0.34, [None], [None]], [4.417, 2.141, -0.26, 1.039, 1.633, 0.031], [[None], 1.811, [None], 0.619, 0.386, 0.577], [[None], -1.467, 1.323, [None], 0.516, -0.949]]\n"
     ]
    }
   ],
   "source": [
    "w = []\n",
    "h = []\n",
    "X = []\n",
    "def assign_random_parameters():\n",
    "    #create random w and h parameters\n",
    "    for i in range(5):\n",
    "        w.append([])    \n",
    "        for k in range(2):\n",
    "            w[i].append(random.random())\n",
    "    for k in range(2):\n",
    "        h.append([])    \n",
    "        for j in range(6):\n",
    "            h[k].append(random.random())\n",
    "    \n",
    "\n",
    "        \n",
    "#Constructing X 2D array for given values in data.\n",
    "\n",
    "for i in range(5):\n",
    "    X.append([])\n",
    "    for j in range(6):\n",
    "        X[i].append([])\n",
    "        X[i][j].append(None)\n",
    "        \n",
    "for element in Data:\n",
    "    X[element[0]][element[1]] = element[2]\n",
    "    \n",
    "\n",
    "    \n",
    "assign_random_parameters()       \n",
    "print(w)\n",
    "print('-----------------')\n",
    "print(h)\n",
    "print('------------------')\n",
    "print(X)"
   ]
  },
  {
   "cell_type": "code",
   "execution_count": 11,
   "metadata": {
    "collapsed": false
   },
   "outputs": [
    {
     "name": "stdout",
     "output_type": "stream",
     "text": [
      "403.11997987938344\n",
      "2.023925505195745\n",
      "-1.064\n"
     ]
    }
   ],
   "source": [
    "def predict_X(i,j):\n",
    "    #print('pedicting for', i , ' and ' , j)\n",
    "    retval = (w[i][0]*h[0][j])+(w[i][1]*h[1][j])\n",
    "    #print('(',w[i][0] , 'x' ,h[0][j],')+(',w[i][1],'x',h[1][j],')=',retval )\n",
    "    return retval\n",
    "\n",
    "def calculate_error_single_element(i,j):\n",
    "    prediction = predict_X(i,j)\n",
    "    real = X[i][j]\n",
    "    error = prediction - real\n",
    "    return error**2\n",
    "\n",
    "\n",
    "def calculate_total_error(): #with square method\n",
    "    total_error = 0\n",
    "    for element in Data:\n",
    "        i = element[0]\n",
    "        j = element[1]\n",
    "        error = calculate_error_single_element(i,j)\n",
    "        total_error = total_error + error**2\n",
    "    return total_error\n",
    "\n",
    "#0,111056383 0,010663285\n",
    "#\n",
    "print(calculate_total_error())\n",
    "print(calculate_error_single_element(0,0))\n",
    "print(X[0][0])"
   ]
  },
  {
   "cell_type": "markdown",
   "metadata": {},
   "source": [
    "## Minimizing square of error\n",
    "\n",
    "$$\n",
    "x_{i,j} = w_{i,0} h_{0,j} + w_{i,1} h_{1,j} + \\epsilon_{i,j}\n",
    "$$\n",
    "\n",
    "$$\n",
    "\\epsilon_{i,j} = X_{i,j} - w_{i,0} h_{0,j} - w_{i,1} h_{1,j}\n",
    "$$\n",
    "\n",
    "$$\n",
    "\\epsilon_{i,j}^2 = ( X_{i,j} - w_{i,0} h_{0,j} - w_{i,1} h_{1,j} )^2\n",
    "$$\n",
    "\n",
    "$$\n",
    "\\epsilon_{i,j}^2 = X_{i,j}^2 + w_{i,0}^2 h_{0,j}^2 + w_{i,1}^2 h_{1,j}^2 - 2X_{i,j} w_{i,0} h_{0,j} - 2X_{i,j} w_{i,1} h_{1,j} + 2 w_{i,0} h_{0,j} w_{i,1} h_{1,j}\n",
    "$$\n",
    "\n",
    "\n",
    "Minimizing the error function, we need to calculate partial derivative of the function with respect to parameters w and h.\n",
    "\n",
    "When k = 0:\n",
    "\n",
    "With respect to w:\n",
    "\n",
    "$$\n",
    "\\frac{\\partial \\epsilon(i,j)}{\\partial w_{i,0}} = 2W_{i,0} h_{0,j}^2 - 2 X_{i,j} h_{0,j} + 2 h_{0,j} w_{i,1} h_{1,j}\n",
    "$$\n",
    "\n",
    "With respect to h:\n",
    "\n",
    "$$\n",
    "\\frac{\\partial \\epsilon(i,j)}{\\partial h_{0,j}} = 2W_{i,0}^2 h_{0,j} - 2 X_{i,j} w_{i,0} + 2 w_{i,0} w_{i,1} h_{1,j}\n",
    "$$\n",
    "\n",
    "And when k = 1:\n",
    "\n",
    "With respect to w:\n",
    "\n",
    "\n",
    "$$\n",
    "\\frac{\\partial \\epsilon(i,j)}{\\partial w_{i,1}} = 2W_{i,1} h_{1,j}^2 - 2 X_{i,j} h_{1,j} + 2 w_{i,0} h_{0,j} h_{1,j}\n",
    "$$\n",
    "\n",
    "With respect to h:\n",
    "\n",
    "$$\n",
    "\\frac{\\partial \\epsilon(i,j)}{\\partial h_{1,j}} = 2W_{i,1}^2 h_{1,j} - 2 X_{i,j} w_{i,1} + 2 w_{i,0} h_{0,j} w_{i,1}\n",
    "$$\n",
    "\n",
    "It turns out, when we are calculating derivative with respect to w or h ; the value of k changes the result.\n",
    "\n",
    "Also whan taking derivate of w, we are dependant on the j parameter as well."
   ]
  },
  {
   "cell_type": "code",
   "execution_count": 12,
   "metadata": {
    "collapsed": false
   },
   "outputs": [
    {
     "name": "stdout",
     "output_type": "stream",
     "text": [
      "0.3753504350394715\n",
      "0.9753434844573989\n"
     ]
    }
   ],
   "source": [
    "def deriv_W(i,j,k, X):\n",
    "    if k==0:\n",
    "        return (2*w[i][0]*h[0][j]**2)-(2*X*h[0][j])+(2*h[0][j]*w[i][1]*h[1][j])\n",
    "    else:\n",
    "        return (2*w[i][1]*h[1][j]**2)-(2*X*h[1][j])+(2*h[0][j]*w[i][0]*h[1][j])\n",
    "\n",
    "def deriv_H(i,j,k, X):\n",
    "    if k==0:\n",
    "        return (2*w[i][0]**2*h[0][j])-(2*X*w[i][0])+(2*w[i][0]*w[i][1]*h[1][j])\n",
    "    else:\n",
    "        return (2*w[i][1]**2*h[1][j])-(2*X*w[i][1])+(2*w[i][0]*h[0][j]*w[i][1])\n",
    "    \n",
    "print(deriv_W(0,0,0,-1.064))\n",
    "print(deriv_H(0,0,0,-1.064))"
   ]
  },
  {
   "cell_type": "code",
   "execution_count": null,
   "metadata": {
    "collapsed": false
   },
   "outputs": [],
   "source": []
  },
  {
   "cell_type": "code",
   "execution_count": 13,
   "metadata": {
    "collapsed": false
   },
   "outputs": [
    {
     "name": "stdout",
     "output_type": "stream",
     "text": [
      "0.34279172522256873\n",
      "0.3753504350394715\n",
      "403.11997987938344\n",
      "0.3753156294231772\n",
      "403.0898633343067\n"
     ]
    }
   ],
   "source": [
    "print(w[0][0])\n",
    "print(deriv_W(0,0,0,X[0][0]))\n",
    "print(calculate_total_error())\n",
    "w[0][0]= w[0][0] - 0.001\n",
    "print(deriv_W(0,0,0,X[0][0]))\n",
    "print(calculate_total_error())"
   ]
  },
  {
   "cell_type": "code",
   "execution_count": 14,
   "metadata": {
    "collapsed": false
   },
   "outputs": [
    {
     "name": "stdout",
     "output_type": "stream",
     "text": [
      "403.0898633343067\n",
      "2.0965927702364957e-09\n",
      "--------------\n",
      "Prediction for given data:  0 , 0 , -1.0643624310914614\n",
      "Prediction for given data:  0 , 1 , -0.9038873159818951\n",
      "Prediction for given data:  0 , 5 , 0.5321233552126161\n",
      "Prediction for given data:  1 , 0 , 1.1935205496887669\n",
      "Prediction for given data:  1 , 2 , 0.011207536930161022\n",
      "Prediction for given data:  1 , 3 , 0.3383776067826793\n",
      "Prediction for given data:  2 , 0 , 4.416224332733783\n",
      "Prediction for given data:  2 , 1 , 2.142362677088318\n",
      "Prediction for given data:  2 , 2 , -0.26048033483768696\n",
      "Prediction for given data:  2 , 3 , 1.0395565992244715\n",
      "Prediction for given data:  2 , 4 , 1.6314601604973873\n",
      "Prediction for given data:  2 , 5 , 0.02889211175343287\n",
      "Prediction for given data:  3 , 1 , 1.8075453713594445\n",
      "Prediction for given data:  3 , 3 , 0.6186430434522179\n",
      "Prediction for given data:  3 , 4 , 0.3906528929763571\n",
      "Prediction for given data:  3 , 5 , 0.5831317832967302\n",
      "Prediction for given data:  4 , 1 , -1.4684111942310958\n",
      "Prediction for given data:  4 , 2 , 1.3233016040000014\n",
      "Prediction for given data:  4 , 4 , 0.5175271809895723\n",
      "Prediction for given data:  4 , 5 , -0.9469225527011231\n",
      "[[-0.36912000920141314, -1.12159610340319], [0.42901764275603044, 0.37932449051406597], [1.5948027089638606, 0.9752325967368983], [1.6573648455969958, 0.09384352733267219], [-1.6104689074383345, 0.5411188289867193]]\n",
      "---------\n",
      "[[2.7403172535717384, 1.0648250815497518, -0.5882238114702656, 0.3448428167183033, 0.1553709401352655, 0.3858971957687135], [0.047126145568704265, 0.4554572457343135, 0.6948297210731469, 0.5020344301385976, 1.4188145155372576, -0.6014337332474408]]\n"
     ]
    }
   ],
   "source": [
    "EPOCH = 5000\n",
    "trial = 175\n",
    "eta = 0.0000364 # arbitrary low value\n",
    "print(calculate_total_error())\n",
    "start_error = calculate_total_error()\n",
    "for t in range(trial):\n",
    "    for k in range(2):\n",
    "        for i in range(5):\n",
    "            for j in range(6):\n",
    "                for epoch in range(EPOCH):\n",
    "                    if(type(X[i][j]) is float): # Some i,j values does not exist in Data\n",
    "                        w[i][k] = w[i][k] - (eta*deriv_W(i,j,k,X[i][j]))\n",
    "                        h[k][j] = h[k][j] - (eta*deriv_H(i,j,k,X[i][j]))\n",
    "                    \n",
    "print(calculate_total_error()) # Must show low error\n",
    "print('--------------')\n",
    "for element in Data:\n",
    "    i = element[0]\n",
    "    j = element[1]\n",
    "    prediction = predict_X(i,j)\n",
    "    print('Prediction for given data: ', i , ',' , j, ',' , prediction)\n",
    "print(w)\n",
    "print('---------')\n",
    "print(h)"
   ]
  },
  {
   "cell_type": "code",
   "execution_count": 15,
   "metadata": {
    "collapsed": false
   },
   "outputs": [
    {
     "name": "stdout",
     "output_type": "stream",
     "text": [
      "0 , 2 , -0.5621931289819722\n",
      "0 , 3 , -0.6903682442977934\n",
      "0 , 4 , -1.6486873549308343\n",
      "1 , 1 , 0.6295948341230806\n",
      "1 , 4 , 0.6048479677297516\n",
      "1 , 5 , -0.06258183916720228\n",
      "3 , 0 , 4.546127965582468\n",
      "3 , 2 , -0.9096961945528123\n",
      "4 , 0 , -4.3876948886893\n",
      "4 , 3 , -0.28369835133067084\n"
     ]
    }
   ],
   "source": [
    "test_indices = [[0,2],\n",
    "[0,3],\n",
    "[0,4],\n",
    "[1,1],\n",
    "[1,4],\n",
    "[1,5],\n",
    "[3,0],\n",
    "[3,2],\n",
    "[4,0],\n",
    "[4,3]]\n",
    "\n",
    "predicted_model = []\n",
    "\n",
    "for indice in test_indices:\n",
    "    i = indice[0]\n",
    "    j = indice[1]\n",
    "    prediction = predict_X(i,j)\n",
    "    print(i,',',j,',',prediction)"
   ]
  },
  {
   "cell_type": "code",
   "execution_count": null,
   "metadata": {
    "collapsed": true
   },
   "outputs": [],
   "source": []
  }
 ],
 "metadata": {
  "kernelspec": {
   "display_name": "Python 3",
   "language": "python",
   "name": "python3"
  },
  "language_info": {
   "codemirror_mode": {
    "name": "ipython",
    "version": 3
   },
   "file_extension": ".py",
   "mimetype": "text/x-python",
   "name": "python",
   "nbconvert_exporter": "python",
   "pygments_lexer": "ipython3",
   "version": "3.6.0"
  }
 },
 "nbformat": 4,
 "nbformat_minor": 2
}
