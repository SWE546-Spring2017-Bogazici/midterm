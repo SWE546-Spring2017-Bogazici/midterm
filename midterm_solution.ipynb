{
 "cells": [
  {
   "cell_type": "code",
   "execution_count": null,
   "metadata": {
    "collapsed": true
   },
   "outputs": [],
   "source": [
    "import pandas as pd\n",
    "\n",
    "data = [\n",
    "[0,0,-1.064],\n",
    "[0,1,-0.904],\n",
    "[0,5,0.532],\n",
    "[1,0,1.192],\n",
    "[1,2,0.010],\n",
    "[1,3,0.340],\n",
    "[2,0,4.417],\n",
    "[2,1,2.141],\n",
    "[2,2,-0.260],\n",
    "[2,3,1.039],\n",
    "[2,4,1.633],\n",
    "[2,5,0.031],\n",
    "[3,1,1.811],\n",
    "[3,3,0.619],\n",
    "[3,4,0.386],\n",
    "[3,5,0.577],\n",
    "[4,1,-1.467],\n",
    "[4,2,1.323],\n",
    "[4,4,0.516],\n",
    "[4,5,-0.949],\n",
    "]\n",
    "\n",
    "X = np.array(data)\n",
    "\n",
    "i_X = [0,1,2,3,4]\n",
    "j_X = [0,1,2,3,4,5]\n",
    "k_X = [0,1]\n",
    "\n",
    "def deriv_W(i,k, current_W, current_H, X):\n",
    "    return current_W[i].dot(current_H[k]) + current_W[i].dot(current_H[k])\n",
    "    \n",
    "def deriv_H(k,j, current_W, current_H, X):\n",
    "    return current_W[k].dot(current_H[k,j]) + current_W[k].dot(current_H[k,j])\n",
    "\n",
    "EPOCH = 1000\n",
    "    \n",
    "eta = 0.05\n",
    "\n",
    "W = np.random.randn(4,5)\n",
    "H = np.random.randn(4,5)\n",
    "\n",
    "for e in range(EPOCH):\n",
    "    \n",
    "    for i in i_X:\n",
    "        for k in k_X:\n",
    "            W[i,k] = W[i,k] - eta*deriv_W(i,k, W, H, X)\n",
    "    \n",
    "    for k in k_X:\n",
    "        for j in j_X:\n",
    "            H[k,j] = H[k,j] - eta*deriv_H(k, j, W, H, X)"
   ]
  }
 ],
 "metadata": {
  "kernelspec": {
   "display_name": "Python 2",
   "language": "python",
   "name": "python2"
  },
  "language_info": {
   "codemirror_mode": {
    "name": "ipython",
    "version": 2
   },
   "file_extension": ".py",
   "mimetype": "text/x-python",
   "name": "python",
   "nbconvert_exporter": "python",
   "pygments_lexer": "ipython2",
   "version": "2.7.13"
  }
 },
 "nbformat": 4,
 "nbformat_minor": 2
}
