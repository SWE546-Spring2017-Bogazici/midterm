{
 "cells": [
  {
   "cell_type": "code",
   "execution_count": 126,
   "metadata": {
    "collapsed": true
   },
   "outputs": [],
   "source": [
    "Data = [\n",
    "[0,0,-1.064],\n",
    "[0,1,-0.904],\n",
    "[0,5,0.532],\n",
    "[1,0,1.192],\n",
    "[1,2,0.010],\n",
    "[1,3,0.340],\n",
    "[2,0,4.417],\n",
    "[2,1,2.141],\n",
    "[2,2,-0.260],\n",
    "[2,3,1.039],\n",
    "[2,4,1.633],\n",
    "[2,5,0.031],\n",
    "[3,1,1.811],\n",
    "[3,3,0.619],\n",
    "[3,4,0.386],\n",
    "[3,5,0.577],\n",
    "[4,1,-1.467],\n",
    "[4,2,1.323],\n",
    "[4,4,0.516],\n",
    "[4,5,-0.949],\n",
    "]"
   ]
  },
  {
   "cell_type": "code",
   "execution_count": 127,
   "metadata": {
    "collapsed": false
   },
   "outputs": [
    {
     "name": "stdout",
     "output_type": "stream",
     "text": [
      "X:\n",
      "[[-1.064 -0.904 x_0_2 x_0_3 x_0_4 0.532]\n",
      " [1.192 x_1_1 0.01 0.34 x_1_4 x_1_5]\n",
      " [4.417 2.141 -0.26 1.039 1.633 0.031]\n",
      " [x_3_0 1.811 x_3_2 0.619 0.386 0.577]\n",
      " [x_4_0 -1.467 1.323 x_4_3 0.516 -0.949]]\n",
      "w:\n",
      "[[w_0_0 w_0_1]\n",
      " [w_1_0 w_1_1]\n",
      " [w_2_0 w_2_1]\n",
      " [w_3_0 w_3_1]\n",
      " [w_4_0 w_4_1]]\n",
      "h:\n",
      "[[h_0_0 h_0_1 h_0_2 h_0_3 h_0_4 h_0_5]\n",
      " [h_1_0 h_1_1 h_1_2 h_1_3 h_1_4 h_1_5]]\n",
      "M:\n",
      "[[1 1 0 0 0 1]\n",
      " [1 0 1 1 0 0]\n",
      " [1 1 1 1 1 1]\n",
      " [0 1 0 1 1 1]\n",
      " [0 1 1 0 1 1]]\n"
     ]
    }
   ],
   "source": [
    "import numpy as np\n",
    "from sympy import symbols, diff, solve, root, lambdify,exp\n",
    "\n",
    "w_0_0, w_0_1, w_1_0, w_1_1, w_2_0, w_2_1, w_3_0, w_3_1, w_4_0, w_4_1, h_0_0, h_0_1, h_0_2, h_0_3, h_0_4, h_0_5, h_0_6, h_1_0, h_1_1, h_1_2, h_1_3, h_1_4, h_1_5, h_1_6, x_0_2, x_0_3, x_0_4, x_1_1, x_1_4, x_1_5, x_3_0, x_3_2, x_4_0, x_4_3 = symbols('w_0_0, w_0_1, w_1_0, w_1_1, w_2_0, w_2_1, w_3_0, w_3_1, w_4_0, w_4_1, h_0_0, h_0_1, h_0_2, h_0_3, h_0_4, h_0_5, h_0_6, h_1_0, h_1_1, h_1_2, h_1_3, h_1_4, h_1_5, h_1_6, x_0_2, x_0_3, x_0_4, x_1_1, x_1_4, x_1_5, x_3_0, x_3_2, x_4_0, x_4_3', real=True)\n",
    "X = np.matrix([[-1.064, -0.904, x_0_2, x_0_3, x_0_4, 0.532], [1.192, x_1_1, 0.010, 0.340, x_1_4, x_1_5], [4.417, 2.141, -0.260, 1.039, 1.633, 0.031], [x_3_0, 1.811, x_3_2, 0.619, 0.386, 0.577], [x_4_0, -1.467, 1.323, x_4_3, 0.516, -0.949]])\n",
    "w = np.matrix([[w_0_0, w_0_1], [w_1_0, w_1_1], [w_2_0, w_2_1], [w_3_0, w_3_1], [w_4_0, w_4_1]])\n",
    "h = np.matrix([[h_0_0, h_0_1, h_0_2, h_0_3, h_0_4, h_0_5], [h_1_0, h_1_1, h_1_2, h_1_3, h_1_4, h_1_5]])\n",
    "M = np.matrix([[1, 1, 0, 0, 0, 1], [1, 0, 1, 1, 0, 0], [1, 1, 1, 1, 1, 1], [0, 1, 0, 1, 1, 1], [0, 1, 1, 0, 1, 1]])\n",
    "print(\"X:\")\n",
    "print(X)\n",
    "print(\"w:\")\n",
    "print(w)\n",
    "print(\"h:\")\n",
    "print(h)\n",
    "print(\"M:\")\n",
    "print(M)"
   ]
  },
  {
   "cell_type": "markdown",
   "metadata": {},
   "source": [
    "\\begin{eqnarray}\n",
    "    E(w,h) = \\frac{1}{2}\\biggl(X(i,j)-\\sum_{k=1}^{K}w(i,k)h(k,j)\\biggr)^{2}M(i,j)\n",
    "\\end{eqnarray}\n",
    "\n",
    "\\begin{eqnarray}\n",
    "    \\frac{d E}{d w_{i,k}} = -\\sum_{j^{\\prime}} \\biggl(x_{i,j^{\\prime}}-\\sum_{k^{\\prime}}w_{i,k^{\\prime}}h_{k^{\\prime},j^{\\prime}}\\biggr)h_{k,j^{\\prime}}  \n",
    "\\end{eqnarray}\n",
    "\n",
    "\\begin{eqnarray}\n",
    "    \\frac{d E}{d h_{k,j}} = -\\sum_{i^{\\prime}} \\biggl(x_{i^{\\prime},j}-\\sum_{k^{\\prime}}w_{i^{\\prime},k^{\\prime}}h_{k^{\\prime},j}\\biggr)w_{i^{\\prime},k}  \n",
    "\\end{eqnarray}"
   ]
  },
  {
   "cell_type": "code",
   "execution_count": 186,
   "metadata": {
    "collapsed": true
   },
   "outputs": [],
   "source": [
    "def deriv_W(i_loc,k_loc, current_W, current_H, X):\n",
    "    outer_sum = 0\n",
    "    for j in range (max_j + 1):\n",
    "        if (M.item(i_loc,j)==1):\n",
    "            inner_sum = 0\n",
    "            for k in range (max_k + 1):\n",
    "                inner_sum = inner_sum + current_W.item(i_loc,k)*current_H.item(k,j)\n",
    "            outer_sum = outer_sum + (X.item(i_loc,j) - inner_sum) * current_H.item(k_loc,j)\n",
    "    return -outer_sum     "
   ]
  },
  {
   "cell_type": "code",
   "execution_count": 190,
   "metadata": {
    "collapsed": true
   },
   "outputs": [],
   "source": [
    "def deriv_H(k_loc, j_loc, current_W, current_H, X):\n",
    "    outer_sum = 0\n",
    "    for i in range (max_i + 1):\n",
    "        if (M.item(i,j_loc)==1):\n",
    "            inner_sum = 0\n",
    "            for k in range (max_k + 1):\n",
    "                inner_sum = inner_sum + current_W.item(i,k)*current_H.item(k,j_loc)\n",
    "            outer_sum = outer_sum + (X.item(i,j_loc) - inner_sum) * current_W.item(i,k_loc)\n",
    "    return -outer_sum   "
   ]
  },
  {
   "cell_type": "code",
   "execution_count": 202,
   "metadata": {
    "collapsed": false
   },
   "outputs": [
    {
     "name": "stdout",
     "output_type": "stream",
     "text": [
      "[[1.1593455911473982 -0.41304812793116114]\n",
      " [-0.56396341306606 -0.1336409091200775]\n",
      " [-1.7297522254546953 -0.786293108536452]\n",
      " [-1.0192125956911409 -1.429505520985104]\n",
      " [0.4551751645571259 1.807469758870288]]\n",
      "[[-1.636443593263356 -0.9813080700096047 -0.20568585432322709\n",
      "  -0.5981890262255894 -1.212279991510801 0.2500027220019257]\n",
      " [-2.0173642022951532 -0.5654129034023978 0.7837067090494982\n",
      "  -0.006359136823525007 0.5919146259373006 -0.5860455534863173]]\n"
     ]
    }
   ],
   "source": [
    "X = np.matrix([[-1.064, -0.904, 0, 0, 0, 0.532], [1.192, 0, 0.010, 0.340, 0, 0], [4.417, 2.141, -0.260, 1.039, 1.633, 0.031], [0, 1.811, 0, 0.619, 0.386, 0.577], [0, -1.467, 1.323, 0, 0.516, -0.949]])\n",
    "W = np.ones_like(w) * 1.1\n",
    "H = np.ones_like(h) * -0.9\n",
    "eta = 0.015\n",
    "for iterator in range(10000):\n",
    "    for i in range (max_i + 1):\n",
    "        for k in range (max_k + 1):\n",
    "            W[i,k] = W.item(i,k) - eta*deriv_W(i,k, W, H, X)\n",
    "    for k in range (max_k + 1):\n",
    "        for j in range (max_j + 1):\n",
    "            H[k,j] = H.item(k,j) - eta*deriv_H(k,j, W, H, X)      \n",
    "print(W)\n",
    "print(H)"
   ]
  },
  {
   "cell_type": "code",
   "execution_count": 203,
   "metadata": {
    "collapsed": false
   },
   "outputs": [
    {
     "name": "stdout",
     "output_type": "stream",
     "text": [
      "[[-1.0639351578979248 -0.9041324432645147 -0.5621695773910058\n",
      "  -0.6908811806671774 -1.649940691532728 0.5319045722776857]\n",
      " [1.1924967001679139 0.628984142870804 0.011264019342656556\n",
      "  0.33820656571516117 0.604577552872394 -0.06267272782232094]\n",
      " [4.416881516951184 2.142000087378658 -0.26043762017925043\n",
      "  1.0397189448168687 1.6315256219735756 0.028360815242159443]\n",
      " [4.5517171874107145 1.808422412257098 -0.9106754539375981\n",
      "  0.6187722113312677 0.3894258111229537 0.5829494310360283]\n",
      " [-4.391193270128074 -1.4686337864227388 1.3229030838420757\n",
      "  -0.2837747359495395 0.5180680415894494 -0.9454645851199623]]\n"
     ]
    }
   ],
   "source": [
    "X = W * H\n",
    "print(X)"
   ]
  },
  {
   "cell_type": "markdown",
   "metadata": {},
   "source": [
    "Results are very much similar to the test results."
   ]
  },
  {
   "cell_type": "code",
   "execution_count": null,
   "metadata": {
    "collapsed": true
   },
   "outputs": [],
   "source": []
  }
 ],
 "metadata": {
  "kernelspec": {
   "display_name": "Python 3",
   "language": "python",
   "name": "python3"
  },
  "language_info": {
   "codemirror_mode": {
    "name": "ipython",
    "version": 3
   },
   "file_extension": ".py",
   "mimetype": "text/x-python",
   "name": "python",
   "nbconvert_exporter": "python",
   "pygments_lexer": "ipython3",
   "version": "3.6.0"
  }
 },
 "nbformat": 4,
 "nbformat_minor": 2
}
