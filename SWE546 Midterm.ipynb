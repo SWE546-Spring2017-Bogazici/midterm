{
 "cells": [
  {
   "cell_type": "markdown",
   "metadata": {},
   "source": [
    "SWE 546 Midterm"
   ]
  },
  {
   "cell_type": "markdown",
   "metadata": {},
   "source": [
    "You are given the following data in format\n",
    "$$\n",
    "(i,j,x_{i,j})\n",
    "$$"
   ]
  },
  {
   "cell_type": "code",
   "execution_count": 4,
   "metadata": {
    "collapsed": true
   },
   "outputs": [],
   "source": [
    "Data = [\n",
    "[0,0,-1.064],\n",
    "[0,1,-0.904],\n",
    "[0,5,0.532],\n",
    "[1,0,1.192],\n",
    "[1,2,0.010],\n",
    "[1,3,0.340],\n",
    "[2,0,4.417],\n",
    "[2,1,2.141],\n",
    "[2,2,-0.260],\n",
    "[2,3,1.039],\n",
    "[2,4,1.633],\n",
    "[2,5,0.031],\n",
    "[3,1,1.811],\n",
    "[3,3,0.619],\n",
    "[3,4,0.386],\n",
    "[3,5,0.577],\n",
    "[4,1,-1.467],\n",
    "[4,2,1.323],\n",
    "[4,4,0.516],\n",
    "[4,5,-0.949],\n",
    "]"
   ]
  },
  {
   "cell_type": "markdown",
   "metadata": {},
   "source": [
    "Assume the following matrix factorization model:\n",
    "\n",
    "$$\n",
    "x_{i,j} = w_{i,0} h_{0,j} + w_{i,1} h_{1,j} + \\epsilon_{i,j}\n",
    "$$\n",
    "for $i=0\\dots 4$ and $j=0\\dots 5$. The parameters of the model are $w_{i,k}$ and $h_{k,j}$ for $k=0,1$.\n",
    " \n",
    "* Define a suitable error function to measure the size of the error as a function of the parameters $w$ and $h$. (Hint: Consider the square error)\n",
    "\n",
    "* Take the derivative of the total error with respect to each parameter $w_{i,k}$ and $h_{k,j}$ and implement a function that computes the derivative of the total error with respect to each parameter. "
   ]
  },
  {
   "cell_type": "code",
   "execution_count": null,
   "metadata": {
    "collapsed": true
   },
   "outputs": [],
   "source": [
    "def deriv_H(k,j, current_W, current_H, X):\n",
    "    # Implement this, the output will be a scalar\n",
    "    \n",
    "def deriv_W(i,k, current_W, current_H, X):\n",
    "    # Implement this, the output will be a scalar\n",
    "\n"
   ]
  },
  {
   "cell_type": "markdown",
   "metadata": {},
   "source": [
    "* Our goal is finding $w$ and $h$ that minimize the total error. Implement a gradient descent method that visits each parameter one by one and updates it as follows where eta is small step size:"
   ]
  },
  {
   "cell_type": "markdown",
   "metadata": {},
   "source": [
    "\n",
    "    Iterate EPOCH times:\n",
    "        for all i,k\n",
    "            W[i,k] = W[i,k] - eta*deriv_W(i,k, W, H, X)\n",
    "\n",
    "        for all k, j\n",
    "            H[k,j] = H[k,j] - eta*deriv_H(k, j, W, H, X)\n"
   ]
  },
  {
   "cell_type": "markdown",
   "metadata": {},
   "source": [
    "* Print the predictions of the model for the following indices:"
   ]
  },
  {
   "cell_type": "code",
   "execution_count": 3,
   "metadata": {
    "collapsed": true
   },
   "outputs": [],
   "source": [
    "test_indices = [[0,2],\n",
    "[0,3],\n",
    "[0,4],\n",
    "[1,1],\n",
    "[1,4],\n",
    "[1,5],\n",
    "[3,0],\n",
    "[3,2],\n",
    "[4,0],\n",
    "[4,3]]\n"
   ]
  },
  {
   "cell_type": "markdown",
   "metadata": {},
   "source": [
    "Hint: The results should be close to the following "
   ]
  },
  {
   "cell_type": "markdown",
   "metadata": {},
   "source": [
    "[0,2, -0.57],\n",
    "[0,3, -0.68],\n",
    "[0,4, -1.47],\n",
    "[1,1, 0.62],\n",
    "[1,4, 0.41],\n",
    "[1,5, -0.01],\n",
    "[3,0, 4.61],\n",
    "[3,2, -0.95],\n",
    "[4,0, -4.06],\n",
    "[4,3, -0.25],"
   ]
  },
  {
   "cell_type": "markdown",
   "metadata": {},
   "source": [
    "Plot the total error as a function of the iteration index for several choices of step sizes eta. For which step size does the error decrease the fastest in your experiments?\n",
    "\n",
    "This algorithm is closely related to an algorithm known as stochastic gradient descent. "
   ]
  }
 ],
 "metadata": {
  "kernelspec": {
   "display_name": "Python 3",
   "language": "python",
   "name": "python3"
  },
  "language_info": {
   "codemirror_mode": {
    "name": "ipython",
    "version": 3
   },
   "file_extension": ".py",
   "mimetype": "text/x-python",
   "name": "python",
   "nbconvert_exporter": "python",
   "pygments_lexer": "ipython3",
   "version": "3.6.0"
  }
 },
 "nbformat": 4,
 "nbformat_minor": 0
}
